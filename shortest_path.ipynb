{
 "cells": [
  {
   "cell_type": "markdown",
   "metadata": {},
   "source": [
    "### Dijkstra's Algorithm"
   ]
  },
  {
   "cell_type": "code",
   "execution_count": 1,
   "metadata": {},
   "outputs": [
    {
     "data": {
      "text/plain": [
       "{'start': {'a': 6, 'b': 2},\n",
       " 'a': {'finish': 1},\n",
       " 'b': {'a': 3, 'finish': 5},\n",
       " 'finish': {}}"
      ]
     },
     "execution_count": 1,
     "metadata": {},
     "output_type": "execute_result"
    }
   ],
   "source": [
    "graph = {'start':{'a':6,'b':2},'a':{'finish':1},'b':{'a':3,'finish':5},'finish':{}}\n",
    "graph"
   ]
  },
  {
   "cell_type": "code",
   "execution_count": 2,
   "metadata": {},
   "outputs": [
    {
     "data": {
      "text/plain": [
       "{'a': 6, 'b': 2, 'finish': inf}"
      ]
     },
     "execution_count": 2,
     "metadata": {},
     "output_type": "execute_result"
    }
   ],
   "source": [
    "infinity = float('inf')\n",
    "costs = {}\n",
    "for k in graph.keys():\n",
    "    if k in graph['start'].keys():\n",
    "        costs[k] = graph['start'][k]\n",
    "    elif k != 'start':\n",
    "        costs[k] = infinity\n",
    "costs"
   ]
  },
  {
   "cell_type": "code",
   "execution_count": 3,
   "metadata": {},
   "outputs": [
    {
     "data": {
      "text/plain": [
       "{'a': 'start', 'b': 'start', 'finish': ''}"
      ]
     },
     "execution_count": 3,
     "metadata": {},
     "output_type": "execute_result"
    }
   ],
   "source": [
    "parents = {}\n",
    "for k in graph.keys():\n",
    "    if k in graph['start'].keys():\n",
    "        parents[k] = 'start'\n",
    "    elif k != 'start':\n",
    "        parents[k] = ''\n",
    "parents"
   ]
  },
  {
   "cell_type": "code",
   "execution_count": 4,
   "metadata": {},
   "outputs": [
    {
     "data": {
      "text/plain": [
       "'b'"
      ]
     },
     "execution_count": 4,
     "metadata": {},
     "output_type": "execute_result"
    }
   ],
   "source": [
    "processed = []\n",
    "def find_lowest_cost_note(costs):\n",
    "    lowest_cost = float('inf')\n",
    "    lowest_cost_node = None\n",
    "    for k in costs:\n",
    "        if costs[k] < lowest_cost and k not in processed:\n",
    "            lowest_cost = costs[k]\n",
    "            lowest_cost_node = k\n",
    "    return lowest_cost_node\n",
    "\n",
    "find_lowest_cost_note(costs)"
   ]
  },
  {
   "cell_type": "code",
   "execution_count": 5,
   "metadata": {},
   "outputs": [
    {
     "name": "stdout",
     "output_type": "stream",
     "text": [
      "start -> b -> a -> finish\n",
      "6\n"
     ]
    }
   ],
   "source": [
    "processed = []\n",
    "node = find_lowest_cost_note(costs)\n",
    "while node:\n",
    "    for neig in graph[node]:\n",
    "        new_cost = costs[node] + graph[node][neig]\n",
    "        if new_cost < costs[neig]:\n",
    "            costs[neig] = new_cost\n",
    "            parents[neig] = node\n",
    "    processed.append(node)\n",
    "    node = find_lowest_cost_note(costs)\n",
    "\n",
    "\n",
    "path = ['finish']\n",
    "k = parents['finish']\n",
    "while k != 'start':\n",
    "    path.append(k)\n",
    "    k = parents[k]\n",
    "path.append('start')\n",
    "path = ' -> '.join(path[::-1])\n",
    "\n",
    "total_cost = costs['finish']\n",
    "print(path)\n",
    "print(total_cost)"
   ]
  },
  {
   "cell_type": "markdown",
   "metadata": {},
   "source": [
    "### Find Shortest Path with Dijkstra's Algorithm"
   ]
  },
  {
   "cell_type": "code",
   "execution_count": 6,
   "metadata": {},
   "outputs": [
    {
     "data": {
      "text/plain": [
       "('start -> a -> d -> finish', 8)"
      ]
     },
     "execution_count": 6,
     "metadata": {},
     "output_type": "execute_result"
    }
   ],
   "source": [
    "from algorithms.dijkstras import find_shortest_path_and_cost\n",
    "\n",
    "graph = {'start':{'a':5,'b':2},'a':{'c':4,'d':2},'b':{'a':8,'d':7},'c':{'finish':3,'d':6},'d':{'finish':1},'finish':{}}\n",
    "find_shortest_path_and_cost(graph)"
   ]
  },
  {
   "cell_type": "code",
   "execution_count": 7,
   "metadata": {},
   "outputs": [
    {
     "data": {
      "text/plain": [
       "('start -> a -> c -> finish', 60)"
      ]
     },
     "execution_count": 7,
     "metadata": {},
     "output_type": "execute_result"
    }
   ],
   "source": [
    "graph = {'start':{'a':10},'a':{'c':20},'b':{'a':1},'c':{'finish':30,'b':1},'d':{'finish':1},'finish':{}}\n",
    "find_shortest_path_and_cost(graph)"
   ]
  },
  {
   "cell_type": "code",
   "execution_count": 8,
   "metadata": {},
   "outputs": [
    {
     "data": {
      "text/plain": [
       "('start -> b -> finish', 4)"
      ]
     },
     "execution_count": 8,
     "metadata": {},
     "output_type": "execute_result"
    }
   ],
   "source": [
    "graph = {'start':{'a':2,'b':2},'a':{'b':2},'b':{'c':2,'finish':2},'c':{'finish':2,'a':-1},'finish':{}}\n",
    "find_shortest_path_and_cost(graph)"
   ]
  }
 ],
 "metadata": {
  "kernelspec": {
   "display_name": "Python 3.8.10 64-bit (microsoft store)",
   "language": "python",
   "name": "python3"
  },
  "language_info": {
   "codemirror_mode": {
    "name": "ipython",
    "version": 3
   },
   "file_extension": ".py",
   "mimetype": "text/x-python",
   "name": "python",
   "nbconvert_exporter": "python",
   "pygments_lexer": "ipython3",
   "version": "3.8.10"
  },
  "orig_nbformat": 4,
  "vscode": {
   "interpreter": {
    "hash": "17c9b7ee004767e2d3d4104fb82030da1f26991afd816c4bccfd9251c7f4eb5f"
   }
  }
 },
 "nbformat": 4,
 "nbformat_minor": 2
}
