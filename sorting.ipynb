{
 "cells": [
  {
   "cell_type": "markdown",
   "id": "05f8739b",
   "metadata": {},
   "source": [
    "### Selection Sort"
   ]
  },
  {
   "cell_type": "code",
   "execution_count": 17,
   "id": "06d40b15",
   "metadata": {},
   "outputs": [
    {
     "data": {
      "text/plain": [
       "[9, 7, 6, 5, 4, 4, 2, 1, -2]"
      ]
     },
     "execution_count": 17,
     "metadata": {},
     "output_type": "execute_result"
    }
   ],
   "source": [
    "from algorithms.selection_sort import sort\n",
    "\n",
    "gg = [2,4,1,7,6,9,4,5,-2]\n",
    "sort(gg, 'desc')"
   ]
  },
  {
   "cell_type": "code",
   "execution_count": 18,
   "id": "32c53a8b",
   "metadata": {},
   "outputs": [
    {
     "data": {
      "text/plain": [
       "[-2, 1, 2, 4, 4, 5, 6, 7, 9]"
      ]
     },
     "execution_count": 18,
     "metadata": {},
     "output_type": "execute_result"
    }
   ],
   "source": [
    "gg = [2,4,1,7,6,9,4,5,-2]\n",
    "sort(gg, 'asc')"
   ]
  },
  {
   "cell_type": "code",
   "execution_count": 19,
   "id": "9029764a",
   "metadata": {},
   "outputs": [
    {
     "data": {
      "text/plain": [
       "[9, 7, 6, 5, 4, 4, 2, 1, 0, -2, -3, -4]"
      ]
     },
     "execution_count": 19,
     "metadata": {},
     "output_type": "execute_result"
    }
   ],
   "source": [
    "gg = [2,4,1,7,6,9,4,5,-2,0,-4,-3]\n",
    "sort(gg)"
   ]
  },
  {
   "cell_type": "markdown",
   "id": "5c9b042c",
   "metadata": {},
   "source": [
    "### Quick Sort"
   ]
  },
  {
   "cell_type": "code",
   "execution_count": 20,
   "id": "55fc9c5c",
   "metadata": {},
   "outputs": [],
   "source": [
    "def quick_sort(l):\n",
    "    if len(l) > 1:\n",
    "        pivot = l[0]\n",
    "        low = []\n",
    "        high = []\n",
    "        for i in l[1:]:\n",
    "            if i <= pivot:\n",
    "                low.append(i)\n",
    "            else:\n",
    "                high.append(i)\n",
    "        return (quick_sort(low) + [pivot] + quick_sort(high))\n",
    "    else:\n",
    "        return l"
   ]
  },
  {
   "cell_type": "code",
   "execution_count": 21,
   "id": "92d2b4d8",
   "metadata": {},
   "outputs": [
    {
     "data": {
      "text/plain": [
       "[-1, 0, 1, 1, 2, 2, 3, 4, 5, 7, 8, 9]"
      ]
     },
     "execution_count": 21,
     "metadata": {},
     "output_type": "execute_result"
    }
   ],
   "source": [
    "l = [2,5,3,1,0,-1,2,1,7,4,9,8]\n",
    "quick_sort(l)"
   ]
  },
  {
   "cell_type": "code",
   "execution_count": 22,
   "id": "aeea3b32",
   "metadata": {},
   "outputs": [
    {
     "data": {
      "text/plain": [
       "[-1, 0, 1, 1, 2, 2, 3, 4, 5, 7, 8, 9]"
      ]
     },
     "execution_count": 22,
     "metadata": {},
     "output_type": "execute_result"
    }
   ],
   "source": [
    "from algorithms.quick_sort import quick_sort\n",
    "\n",
    "l = [2,5,3,1,0,-1,2,1,7,4,9,8]\n",
    "quick_sort(l)"
   ]
  }
 ],
 "metadata": {
  "kernelspec": {
   "display_name": "Python 3.8.10 64-bit (windows store)",
   "language": "python",
   "name": "python3"
  },
  "language_info": {
   "codemirror_mode": {
    "name": "ipython",
    "version": 3
   },
   "file_extension": ".py",
   "mimetype": "text/x-python",
   "name": "python",
   "nbconvert_exporter": "python",
   "pygments_lexer": "ipython3",
   "version": "3.8.10"
  },
  "vscode": {
   "interpreter": {
    "hash": "17c9b7ee004767e2d3d4104fb82030da1f26991afd816c4bccfd9251c7f4eb5f"
   }
  }
 },
 "nbformat": 4,
 "nbformat_minor": 5
}
