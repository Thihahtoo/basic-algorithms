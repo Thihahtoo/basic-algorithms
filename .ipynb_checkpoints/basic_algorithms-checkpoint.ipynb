{
 "cells": [
  {
   "cell_type": "code",
   "execution_count": 1,
   "id": "9b64a049",
   "metadata": {},
   "outputs": [
    {
     "name": "stdout",
     "output_type": "stream",
     "text": [
      "4\n",
      "1\n"
     ]
    }
   ],
   "source": [
    "from algorithms import binary_search\n",
    "\n",
    "gg = [2,3,6,8,4,5,1,7]\n",
    "key = 4\n",
    "result = binary_search(gg, key)\n",
    "print(result)\n",
    "\n",
    "gg = ['htoo', 'lone','thiha']\n",
    "key = 'lone'\n",
    "result = binary_search(gg, key)\n",
    "print(result)"
   ]
  }
 ],
 "metadata": {
  "kernelspec": {
   "display_name": "Python 3",
   "language": "python",
   "name": "python3"
  },
  "language_info": {
   "codemirror_mode": {
    "name": "ipython",
    "version": 3
   },
   "file_extension": ".py",
   "mimetype": "text/x-python",
   "name": "python",
   "nbconvert_exporter": "python",
   "pygments_lexer": "ipython3",
   "version": "3.6.9"
  }
 },
 "nbformat": 4,
 "nbformat_minor": 5
}
