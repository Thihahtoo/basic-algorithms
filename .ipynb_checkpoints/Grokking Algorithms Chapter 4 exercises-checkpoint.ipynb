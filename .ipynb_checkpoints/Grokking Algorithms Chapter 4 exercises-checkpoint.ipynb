{
 "cells": [
  {
   "cell_type": "markdown",
   "id": "4747de61",
   "metadata": {},
   "source": [
    "### 4.1 Sum function with recursive"
   ]
  },
  {
   "cell_type": "code",
   "execution_count": 16,
   "id": "a98a0f34",
   "metadata": {},
   "outputs": [],
   "source": [
    "def sum_list(num_list):\n",
    "    if num_list:\n",
    "        if len(num_list) == 1:\n",
    "            return num_list[0]\n",
    "        else:\n",
    "            return num_list[0] + sum_list(num_list[1:])\n",
    "    else:\n",
    "        return 0"
   ]
  },
  {
   "cell_type": "code",
   "execution_count": 18,
   "id": "5f80911f",
   "metadata": {},
   "outputs": [
    {
     "data": {
      "text/plain": [
       "9"
      ]
     },
     "execution_count": 18,
     "metadata": {},
     "output_type": "execute_result"
    }
   ],
   "source": [
    "l = [2,3,4]\n",
    "sum_list(l)"
   ]
  },
  {
   "cell_type": "markdown",
   "id": "489c31ff",
   "metadata": {},
   "source": [
    "### 4.2 Count number with recursive"
   ]
  },
  {
   "cell_type": "code",
   "execution_count": 19,
   "id": "6a02a848",
   "metadata": {},
   "outputs": [],
   "source": [
    "def count_list(num_list):\n",
    "    if num_list:\n",
    "        if len(num_list) == 1:\n",
    "            return 1\n",
    "        else:\n",
    "            return 1 + count_list(num_list[1:])\n",
    "    else:\n",
    "        return 0"
   ]
  },
  {
   "cell_type": "code",
   "execution_count": 25,
   "id": "7c080524",
   "metadata": {},
   "outputs": [
    {
     "data": {
      "text/plain": [
       "5"
      ]
     },
     "execution_count": 25,
     "metadata": {},
     "output_type": "execute_result"
    }
   ],
   "source": [
    "l = [1,2,3,4,5]\n",
    "count_list(l)"
   ]
  },
  {
   "cell_type": "markdown",
   "id": "e28db34f",
   "metadata": {},
   "source": [
    "### 4.3 Max number with recursive"
   ]
  },
  {
   "cell_type": "code",
   "execution_count": 38,
   "id": "a9288ebb",
   "metadata": {},
   "outputs": [],
   "source": [
    "def max_num(num_list):\n",
    "    if num_list:\n",
    "        if len(num_list) == 1:\n",
    "            return num_list[0]\n",
    "        else:\n",
    "            return num_list[0] if num_list[0] > max_num(num_list[1:]) else max_num(num_list[1:])\n",
    "    else:\n",
    "        return None"
   ]
  },
  {
   "cell_type": "code",
   "execution_count": 40,
   "id": "3e88400b",
   "metadata": {},
   "outputs": [
    {
     "data": {
      "text/plain": [
       "6"
      ]
     },
     "execution_count": 40,
     "metadata": {},
     "output_type": "execute_result"
    }
   ],
   "source": [
    "l = [1,3,4,5,6]\n",
    "max_num(l)"
   ]
  },
  {
   "cell_type": "markdown",
   "id": "0c2a5f30",
   "metadata": {},
   "source": [
    "### 4.4 Binary Search wiht base case and recursive"
   ]
  },
  {
   "cell_type": "code",
   "execution_count": 12,
   "id": "4450d46d",
   "metadata": {},
   "outputs": [],
   "source": [
    "def bi_search(num_list, element):\n",
    "    flag = False\n",
    "    if num_list:\n",
    "        num_list.sort()\n",
    "        mid = round(len(num_list) / 2)\n",
    "        if element == num_list[mid]:\n",
    "            return True\n",
    "        elif element > num_list[mid]:\n",
    "            return flag or bi_search(num_list[(mid+1):], element)\n",
    "        elif element < num_list[mid]:\n",
    "            return flag or bi_search(num_list[:mid], element)\n",
    "    else:\n",
    "        return False"
   ]
  },
  {
   "cell_type": "code",
   "execution_count": 15,
   "id": "354a3e29",
   "metadata": {},
   "outputs": [
    {
     "name": "stdout",
     "output_type": "stream",
     "text": [
      "False\n"
     ]
    }
   ],
   "source": [
    "l = [1,3,4,6,2,5,7]\n",
    "print(bi_search(l, 9))"
   ]
  },
  {
   "cell_type": "markdown",
   "id": "5c9b042c",
   "metadata": {},
   "source": [
    "### Quick Sort"
   ]
  },
  {
   "cell_type": "code",
   "execution_count": 37,
   "id": "55fc9c5c",
   "metadata": {},
   "outputs": [],
   "source": [
    "def quick_sort(l):\n",
    "    if len(l) > 1:\n",
    "        pivot = l[0]\n",
    "        low = []\n",
    "        high = []\n",
    "        for i in l[1:]:\n",
    "            if i <= pivot:\n",
    "                low.append(i)\n",
    "            else:\n",
    "                high.append(i)\n",
    "        return (quick_sort(low) + [pivot] + quick_sort(high))\n",
    "    else:\n",
    "        return l"
   ]
  },
  {
   "cell_type": "code",
   "execution_count": 40,
   "id": "92d2b4d8",
   "metadata": {},
   "outputs": [
    {
     "data": {
      "text/plain": [
       "[-1, 0, 1, 1, 2, 2, 3, 4, 5, 7, 8, 9]"
      ]
     },
     "execution_count": 40,
     "metadata": {},
     "output_type": "execute_result"
    }
   ],
   "source": [
    "l = [2,5,3,1,0,-1,2,1,7,4,9,8]\n",
    "quick_sort(l)"
   ]
  }
 ],
 "metadata": {
  "kernelspec": {
   "display_name": "Python 3 (ipykernel)",
   "language": "python",
   "name": "python3"
  },
  "language_info": {
   "codemirror_mode": {
    "name": "ipython",
    "version": 3
   },
   "file_extension": ".py",
   "mimetype": "text/x-python",
   "name": "python",
   "nbconvert_exporter": "python",
   "pygments_lexer": "ipython3",
   "version": "3.8.10"
  }
 },
 "nbformat": 4,
 "nbformat_minor": 5
}
