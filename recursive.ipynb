{
 "cells": [
  {
   "cell_type": "markdown",
   "id": "4747de61",
   "metadata": {},
   "source": [
    "### Sum function with recursive"
   ]
  },
  {
   "cell_type": "code",
   "execution_count": 2,
   "id": "a98a0f34",
   "metadata": {},
   "outputs": [],
   "source": [
    "def sum_list(num_list):\n",
    "    if num_list:\n",
    "        if len(num_list) == 1:\n",
    "            return num_list[0]\n",
    "        else:\n",
    "            return num_list[0] + sum_list(num_list[1:])\n",
    "    else:\n",
    "        return 0"
   ]
  },
  {
   "cell_type": "code",
   "execution_count": 3,
   "id": "5f80911f",
   "metadata": {},
   "outputs": [
    {
     "data": {
      "text/plain": [
       "9"
      ]
     },
     "execution_count": 3,
     "metadata": {},
     "output_type": "execute_result"
    }
   ],
   "source": [
    "l = [2,3,4]\n",
    "sum_list(l)"
   ]
  },
  {
   "cell_type": "markdown",
   "id": "489c31ff",
   "metadata": {},
   "source": [
    "### Count number with recursive"
   ]
  },
  {
   "cell_type": "code",
   "execution_count": 4,
   "id": "6a02a848",
   "metadata": {},
   "outputs": [],
   "source": [
    "def count_list(num_list):\n",
    "    if num_list:\n",
    "        if len(num_list) == 1:\n",
    "            return 1\n",
    "        else:\n",
    "            return 1 + count_list(num_list[1:])\n",
    "    else:\n",
    "        return 0"
   ]
  },
  {
   "cell_type": "code",
   "execution_count": 5,
   "id": "7c080524",
   "metadata": {},
   "outputs": [
    {
     "data": {
      "text/plain": [
       "5"
      ]
     },
     "execution_count": 5,
     "metadata": {},
     "output_type": "execute_result"
    }
   ],
   "source": [
    "l = [1,2,3,4,5]\n",
    "count_list(l)"
   ]
  },
  {
   "cell_type": "markdown",
   "id": "e28db34f",
   "metadata": {},
   "source": [
    "### Max number with recursive"
   ]
  },
  {
   "cell_type": "code",
   "execution_count": 6,
   "id": "a9288ebb",
   "metadata": {},
   "outputs": [],
   "source": [
    "def max_num(num_list):\n",
    "    if num_list:\n",
    "        if len(num_list) == 1:\n",
    "            return num_list[0]\n",
    "        else:\n",
    "            return num_list[0] if num_list[0] > max_num(num_list[1:]) else max_num(num_list[1:])\n",
    "    else:\n",
    "        return None"
   ]
  },
  {
   "cell_type": "code",
   "execution_count": 7,
   "id": "3e88400b",
   "metadata": {},
   "outputs": [
    {
     "data": {
      "text/plain": [
       "6"
      ]
     },
     "execution_count": 7,
     "metadata": {},
     "output_type": "execute_result"
    }
   ],
   "source": [
    "l = [1,3,4,5,6]\n",
    "max_num(l)"
   ]
  },
  {
   "cell_type": "markdown",
   "id": "0c2a5f30",
   "metadata": {},
   "source": [
    "### Binary Search with base case and recursive"
   ]
  },
  {
   "cell_type": "code",
   "execution_count": 8,
   "id": "4450d46d",
   "metadata": {},
   "outputs": [],
   "source": [
    "def bi_search(num_list, element):\n",
    "    flag = False\n",
    "    if num_list:\n",
    "        num_list.sort()\n",
    "        mid = round(len(num_list) / 2)\n",
    "        if element == num_list[mid]:\n",
    "            return True\n",
    "        elif element > num_list[mid]:\n",
    "            return flag or bi_search(num_list[(mid+1):], element)\n",
    "        elif element < num_list[mid]:\n",
    "            return flag or bi_search(num_list[:mid], element)\n",
    "    else:\n",
    "        return False"
   ]
  },
  {
   "cell_type": "code",
   "execution_count": 9,
   "id": "354a3e29",
   "metadata": {},
   "outputs": [
    {
     "name": "stdout",
     "output_type": "stream",
     "text": [
      "False\n"
     ]
    }
   ],
   "source": [
    "l = [1,3,4,6,2,5,7]\n",
    "print(bi_search(l, 9))"
   ]
  }
 ],
 "metadata": {
  "kernelspec": {
   "display_name": "Python 3.8.10 64-bit (microsoft store)",
   "language": "python",
   "name": "python3"
  },
  "language_info": {
   "codemirror_mode": {
    "name": "ipython",
    "version": 3
   },
   "file_extension": ".py",
   "mimetype": "text/x-python",
   "name": "python",
   "nbconvert_exporter": "python",
   "pygments_lexer": "ipython3",
   "version": "3.8.10"
  },
  "vscode": {
   "interpreter": {
    "hash": "17c9b7ee004767e2d3d4104fb82030da1f26991afd816c4bccfd9251c7f4eb5f"
   }
  }
 },
 "nbformat": 4,
 "nbformat_minor": 5
}
